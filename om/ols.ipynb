{
 "cells": [
  {
   "cell_type": "markdown",
   "id": "681c84c4",
   "metadata": {},
   "source": [
    "# Ordinary Least Square (OLS)"
   ]
  },
  {
   "cell_type": "markdown",
   "id": "8f4114cb",
   "metadata": {},
   "source": [
    "> Linear regression is a statistical modeling technique that estimates the linear relationship between a dependent variable and one or more independent variables by minimizing the squared differences between observed and predicted values."
   ]
  },
  {
   "cell_type": "markdown",
   "id": "f9fe575b",
   "metadata": {},
   "source": [
    "## References"
   ]
  },
  {
   "cell_type": "markdown",
   "id": "6338788a",
   "metadata": {},
   "source": [
    "- [Linear Regression](https://righteous-guardian-68f.notion.site/Linear-Regression-46ad6f94e3524ed6bf819e5a57aa2f39?source=copy_link)"
   ]
  }
 ],
 "metadata": {
  "language_info": {
   "name": "python"
  }
 },
 "nbformat": 4,
 "nbformat_minor": 5
}

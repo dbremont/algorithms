{
 "cells": [
  {
   "cell_type": "markdown",
   "id": "681c84c4",
   "metadata": {},
   "source": [
    "# Ordinary Least Square (OLS)"
   ]
  },
  {
   "cell_type": "markdown",
   "id": "8f4114cb",
   "metadata": {},
   "source": [
    "> Linear regression is a statistical modeling technique that estimates the linear relationship between a dependent variable and one or more independent variables by minimizing the squared differences between observed and predicted values."
   ]
  },
  {
   "cell_type": "markdown",
   "id": "8c93e4e2",
   "metadata": {},
   "source": [
    "## 🧠 Theory Behind It\n",
    "\n",
    "* OLS solves:\n",
    "\n",
    "  $$\n",
    "  \\hat{\\beta} = (X^T X)^{-1} X^T y\n",
    "  $$\n",
    "* It assumes:\n",
    "\n",
    "  * Linear relationship\n",
    "  * No multicollinearity\n",
    "  * Homoscedasticity (equal variance of errors)\n",
    "  * Errors are uncorrelated and normally distributed (for inference)"
   ]
  },
  {
   "cell_type": "code",
   "execution_count": 5,
   "id": "cf997524",
   "metadata": {},
   "outputs": [],
   "source": [
    "import numpy as np"
   ]
  },
  {
   "cell_type": "code",
   "execution_count": 3,
   "id": "11e8981e",
   "metadata": {},
   "outputs": [],
   "source": [
    "class OLS:\n",
    "    def __init__(self):\n",
    "        self.coefficients = None\n",
    "\n",
    "    def fit(self, X, y):\n",
    "        # Add intercept term (column of ones)\n",
    "        X = np.c_[np.ones(X.shape[0]), X]\n",
    "        # OLS closed-form solution: β = (XᵀX)^(-1)Xᵀy\n",
    "        self.coefficients = np.linalg.inv(X.T @ X) @ X.T @ y\n",
    "\n",
    "    def predict(self, X):\n",
    "        X = np.c_[np.ones(X.shape[0]), X]\n",
    "        return X @ self.coefficients\n",
    "\n",
    "    def summary(self):\n",
    "        print(\"Coefficients:\")\n",
    "        print(self.coefficients)"
   ]
  },
  {
   "cell_type": "code",
   "execution_count": 6,
   "id": "77bbfbad",
   "metadata": {},
   "outputs": [
    {
     "name": "stdout",
     "output_type": "stream",
     "text": [
      "Predictions: [2.8 3.4 4.  4.6 5.2]\n",
      "Coefficients:\n",
      "[2.2 0.6]\n"
     ]
    }
   ],
   "source": [
    "# Example data\n",
    "X = np.array([[1], [2], [3], [4], [5]])\n",
    "y = np.array([2, 4, 5, 4, 5])\n",
    "\n",
    "model = OLS()\n",
    "model.fit(X, y)\n",
    "predictions = model.predict(X)\n",
    "\n",
    "print(\"Predictions:\", predictions)\n",
    "model.summary()"
   ]
  },
  {
   "cell_type": "code",
   "execution_count": 7,
   "id": "16207a74",
   "metadata": {},
   "outputs": [],
   "source": [
    "from sklearn.linear_model import LinearRegression"
   ]
  },
  {
   "cell_type": "code",
   "execution_count": 8,
   "id": "d224c4fc",
   "metadata": {},
   "outputs": [
    {
     "name": "stdout",
     "output_type": "stream",
     "text": [
      "Intercept: 2.2\n",
      "Coefficient(s): [0.6]\n",
      "R^2 Score: 0.6000000000000001\n",
      "Predictions: [2.8 3.4 4.  4.6 5.2]\n"
     ]
    }
   ],
   "source": [
    "# Fit model\n",
    "model = LinearRegression()\n",
    "model.fit(X, y)\n",
    "\n",
    "# Results\n",
    "print(\"Intercept:\", model.intercept_)\n",
    "print(\"Coefficient(s):\", model.coef_)\n",
    "print(\"R^2 Score:\", model.score(X, y))\n",
    "\n",
    "# Prediction\n",
    "y_pred = model.predict(X)\n",
    "print(\"Predictions:\", y_pred)"
   ]
  },
  {
   "cell_type": "code",
   "execution_count": 10,
   "id": "27fb6940",
   "metadata": {},
   "outputs": [],
   "source": [
    "import statsmodels.api as sm"
   ]
  },
  {
   "cell_type": "code",
   "execution_count": 11,
   "id": "8c05cf41",
   "metadata": {},
   "outputs": [
    {
     "name": "stdout",
     "output_type": "stream",
     "text": [
      "                            OLS Regression Results                            \n",
      "==============================================================================\n",
      "Dep. Variable:                      y   R-squared:                       0.600\n",
      "Model:                            OLS   Adj. R-squared:                  0.467\n",
      "Method:                 Least Squares   F-statistic:                     4.500\n",
      "Date:                Wed, 06 Aug 2025   Prob (F-statistic):              0.124\n",
      "Time:                        14:54:03   Log-Likelihood:                -5.2598\n",
      "No. Observations:                   5   AIC:                             14.52\n",
      "Df Residuals:                       3   BIC:                             13.74\n",
      "Df Model:                           1                                         \n",
      "Covariance Type:            nonrobust                                         \n",
      "==============================================================================\n",
      "                 coef    std err          t      P>|t|      [0.025      0.975]\n",
      "------------------------------------------------------------------------------\n",
      "const          2.2000      0.938      2.345      0.101      -0.785       5.185\n",
      "x1             0.6000      0.283      2.121      0.124      -0.300       1.500\n",
      "==============================================================================\n",
      "Omnibus:                          nan   Durbin-Watson:                   2.017\n",
      "Prob(Omnibus):                    nan   Jarque-Bera (JB):                0.570\n",
      "Skew:                           0.289   Prob(JB):                        0.752\n",
      "Kurtosis:                       1.450   Cond. No.                         8.37\n",
      "==============================================================================\n",
      "\n",
      "Notes:\n",
      "[1] Standard Errors assume that the covariance matrix of the errors is correctly specified.\n"
     ]
    },
    {
     "name": "stderr",
     "output_type": "stream",
     "text": [
      "/home/dvictoriano/Code/algorithms/env/lib/python3.10/site-packages/statsmodels/stats/stattools.py:74: ValueWarning: omni_normtest is not valid with less than 8 observations; 5 samples were given.\n",
      "  warn(\"omni_normtest is not valid with less than 8 observations; %i \"\n"
     ]
    }
   ],
   "source": [
    "# Add constant for intercept\n",
    "X = sm.add_constant(X)\n",
    "\n",
    "# Fit model\n",
    "model = sm.OLS(y, X)\n",
    "results = model.fit()\n",
    "\n",
    "# Summary\n",
    "print(results.summary())"
   ]
  },
  {
   "cell_type": "markdown",
   "id": "f9fe575b",
   "metadata": {},
   "source": [
    "## References"
   ]
  },
  {
   "cell_type": "markdown",
   "id": "6338788a",
   "metadata": {},
   "source": [
    "- [Linear Regression](https://righteous-guardian-68f.notion.site/Linear-Regression-46ad6f94e3524ed6bf819e5a57aa2f39?source=copy_link)"
   ]
  }
 ],
 "metadata": {
  "kernelspec": {
   "display_name": "env (3.10.12)",
   "language": "python",
   "name": "python3"
  },
  "language_info": {
   "codemirror_mode": {
    "name": "ipython",
    "version": 3
   },
   "file_extension": ".py",
   "mimetype": "text/x-python",
   "name": "python",
   "nbconvert_exporter": "python",
   "pygments_lexer": "ipython3",
   "version": "3.10.12"
  }
 },
 "nbformat": 4,
 "nbformat_minor": 5
}

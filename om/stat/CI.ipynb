{
 "cells": [
  {
   "cell_type": "markdown",
   "metadata": {},
   "source": [
    "# Confidence Intervals\n"
   ]
  },
  {
   "cell_type": "code",
   "execution_count": 8,
   "metadata": {},
   "outputs": [],
   "source": [
    "import numpy as np\n",
    "from scipy.stats import norm"
   ]
  },
  {
   "cell_type": "code",
   "execution_count": 4,
   "metadata": {},
   "outputs": [],
   "source": [
    "mysamp = np.random.normal(loc=1, scale=np.sqrt(2), size=10)\n",
    "xbar = np.mean(mysamp)  # Estimate the mean with the sample mean"
   ]
  },
  {
   "cell_type": "code",
   "execution_count": 9,
   "metadata": {},
   "outputs": [
    {
     "name": "stdout",
     "output_type": "stream",
     "text": [
      "0.7572739251676908\n"
     ]
    }
   ],
   "source": [
    "print(xbar)"
   ]
  },
  {
   "cell_type": "markdown",
   "metadata": {},
   "source": [
    "> Let's find the critical values for a 95% confidence interval. We wand to find two values that, when indicated on the x-axis for a standard normal curve, capture area 0.95 between them. This means that we want to find a number that cuts of area 0.95+0.05/2=0.975 to the left and 0.025 to the right. We can get this by typing  \n",
    "`norm.ppf(0.975) `"
   ]
  },
  {
   "cell_type": "code",
   "execution_count": 10,
   "metadata": {},
   "outputs": [
    {
     "data": {
      "text/plain": [
       "np.float64(1.959963984540054)"
      ]
     },
     "execution_count": 10,
     "metadata": {},
     "output_type": "execute_result"
    }
   ],
   "source": [
    "# Find the critical value for a 95% confidence interval\n",
    "cv = norm.ppf(0.975)  # ppf = percent point function (inverse CDF)\n",
    "cv  # View the critical value"
   ]
  },
  {
   "cell_type": "code",
   "execution_count": 12,
   "metadata": {},
   "outputs": [
    {
     "name": "stdout",
     "output_type": "stream",
     "text": [
      "[np.float64(-0.11924861540889076), np.float64(1.6337964657442723)]\n"
     ]
    }
   ],
   "source": [
    "# Compute the confidence interval endpoints\n",
    "lower = xbar - cv * np.sqrt(2/10)\n",
    "upper = xbar + cv * np.sqrt(2/10)\n",
    "\n",
    "# Store them in a list (vector)\n",
    "myci = [lower, upper]\n",
    "\n",
    "# Display the confidence interval\n",
    "print(myci)\n"
   ]
  },
  {
   "cell_type": "code",
   "execution_count": null,
   "metadata": {},
   "outputs": [
    {
     "data": {
      "text/plain": [
       "0.9493"
      ]
     },
     "execution_count": 15,
     "metadata": {},
     "output_type": "execute_result"
    }
   ],
   "source": [
    "# Initialize count\n",
    "count = 0\n",
    "\n",
    "# Set the critical value for 95% CI\n",
    "cv = norm.ppf(0.975)\n",
    "\n",
    "n_simulations = 100000\n",
    "\n",
    "# Perform 100,000 simulations\n",
    "for i in range(n_simulations):\n",
    "    # Generate a random sample of size 10 from N(1,2)\n",
    "    mysamp = np.random.normal(loc=1, scale=np.sqrt(2), size=10)\n",
    "    \n",
    "    # Compute the sample mean\n",
    "    xbar = np.mean(mysamp)\n",
    "    \n",
    "    # True mean\n",
    "    true_mean = 1\n",
    "    \n",
    "    # Check if the CI contains the true mean\n",
    "    if (xbar - cv * np.sqrt(2/10) < true_mean) and (xbar + cv * np.sqrt(2/10) > true_mean):\n",
    "        count += 1\n",
    "\n",
    "\n",
    "count / n_simulations  # Proportion of CIs that contain the true mean"
   ]
  },
  {
   "cell_type": "markdown",
   "metadata": {},
   "source": [
    "> Look at the proportion by typing  \n",
    "`count/100000`  \n",
    "What do you see?"
   ]
  },
  {
   "cell_type": "code",
   "execution_count": null,
   "metadata": {},
   "outputs": [],
   "source": []
  },
  {
   "cell_type": "markdown",
   "metadata": {},
   "source": [
    "# Making a Confidence Interval Function\n",
    "\n",
    "> R has built-in functions to make confidence intervals for the mean of a population or the difference in two means. That is, anything confidence interval for a mean or difference of means that requires a t-critical value.In order to get a confidence interval with z-critical values, one would have to load a special package. Instead of doing this, let's work with the base packages in R and write our own function.  \n",
    "\n",
    ">In the cell below, type  \n",
    "`normCI<-function(data,variance,level){}`  \n",
    "\n",
    "> In **between the braces** (which can be on different lines for clarity) add the lines  \n",
    "`cv<-qnorm(level+(1-level)/2)  \n",
    "xbar<-mean(data)  \n",
    "c(xbar-cv*sqrt(variance/length(data)),xbar+cv*sqrt(variance/length(data)))`\n"
   ]
  },
  {
   "cell_type": "code",
   "execution_count": null,
   "metadata": {},
   "outputs": [],
   "source": []
  },
  {
   "cell_type": "markdown",
   "metadata": {},
   "source": [
    "> Now type  \n",
    "`normCI(mysamp,2,0.95)`  \n",
    "  \n",
    "> Note that you will not get the exact same confidence interval that you originally computed at the beginning of this lab because we have overwritten the vector \"mysamp\"-- many times in fact!  "
   ]
  },
  {
   "cell_type": "code",
   "execution_count": null,
   "metadata": {},
   "outputs": [],
   "source": []
  },
  {
   "cell_type": "markdown",
   "metadata": {},
   "source": [
    "# Built in t-Confidence Intervals in R  \n",
    "> Compresive strength of concrete is measured in $\\mbox{KN/m}^{2}$. A random  sample of one type of concrete (cement mixed with pulverized fuel ash) and a random sample of another type of concrete (cement mixed with a new artifical siliceous material produced in a lab) were obtained.  \n",
    "\n",
    ">Read in the first random sample from provided data files by typing the following.  \n",
    "`flyash<-read.table(\"flyash\")`    \n",
    "`flyash<-c(unlist(flyash))`  \n",
    "`flyash<-as.vector(flyash)`\n",
    "\n",
    "Do the same thing for the second sample. The filename for this is 'silicate'."
   ]
  },
  {
   "cell_type": "code",
   "execution_count": null,
   "metadata": {},
   "outputs": [],
   "source": []
  },
  {
   "cell_type": "markdown",
   "metadata": {},
   "source": [
    "> Assume that the populations are both normally distributed.  \n",
    "> Find a 95% confidence interval for the true mean compresive strength of the fly ash mix by typing  \n",
    "`t.test(flyash)`  \n",
    "> Can you pick the confidence interval out from this information?"
   ]
  },
  {
   "cell_type": "code",
   "execution_count": null,
   "metadata": {},
   "outputs": [],
   "source": []
  },
  {
   "cell_type": "markdown",
   "metadata": {},
   "source": [
    "Suppose that we want to change the default confidence level from 95% to 90%. Type the following  \n",
    "`t.test(flyash',conf.level=0.90)`  \n",
    "Does the width of the resulting confidence interval compare to the width of the previous 95% interval in the way that you expected?"
   ]
  },
  {
   "cell_type": "code",
   "execution_count": null,
   "metadata": {},
   "outputs": [],
   "source": []
  },
  {
   "cell_type": "markdown",
   "metadata": {},
   "source": [
    "> Finally, let us do a two-sample t-test to compare the means for both concrete populations by typing  \n",
    "`t.test(flyash,silicate')`"
   ]
  },
  {
   "cell_type": "code",
   "execution_count": null,
   "metadata": {},
   "outputs": [],
   "source": []
  },
  {
   "cell_type": "markdown",
   "metadata": {},
   "source": [
    "> Does it appear that the new silcate mix is stronger than the fly ash mix?  \n",
    "\n",
    "> You'll notice that the \"Welch t-test\" was performed. This is the more general test if you can not assume that the populations has equal variances. This is most likely what you will be using in \"real life\". However, if you would like to perform a \"pooled variance test\", you would include \"var.equal=T\" in your last command.  \n",
    "\n",
    "> Try this. Is your resulting confidence interval wider or narrower than the Welch confidence interval? Does the relative length make sense to you?\n"
   ]
  },
  {
   "cell_type": "code",
   "execution_count": null,
   "metadata": {},
   "outputs": [],
   "source": []
  }
 ],
 "metadata": {
  "kernelspec": {
   "display_name": "env (3.10.12)",
   "language": "python",
   "name": "python3"
  },
  "language_info": {
   "codemirror_mode": {
    "name": "ipython",
    "version": 3
   },
   "file_extension": ".py",
   "mimetype": "text/x-python",
   "name": "python",
   "nbconvert_exporter": "python",
   "pygments_lexer": "ipython3",
   "version": "3.10.12"
  }
 },
 "nbformat": 4,
 "nbformat_minor": 4
}

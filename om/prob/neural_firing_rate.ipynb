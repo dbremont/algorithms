{
 "cells": [
  {
   "cell_type": "markdown",
   "id": "766fec5d",
   "metadata": {},
   "source": [
    "# Neural Firing Rate"
   ]
  }
 ],
 "metadata": {
  "language_info": {
   "name": "python"
  }
 },
 "nbformat": 4,
 "nbformat_minor": 5
}

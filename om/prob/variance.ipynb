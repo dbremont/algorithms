{
 "cells": [
  {
   "cell_type": "markdown",
   "id": "505b87de",
   "metadata": {},
   "source": [
    "# Variance"
   ]
  }
 ],
 "metadata": {
  "language_info": {
   "name": "python"
  }
 },
 "nbformat": 4,
 "nbformat_minor": 5
}

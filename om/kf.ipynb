{
 "cells": [
  {
   "cell_type": "markdown",
   "metadata": {},
   "source": [
    "# Kalman Filter"
   ]
  },
  {
   "cell_type": "markdown",
   "metadata": {},
   "source": [
    "..."
   ]
  },
  {
   "cell_type": "markdown",
   "metadata": {},
   "source": [
    "## References"
   ]
  },
  {
   "cell_type": "markdown",
   "metadata": {},
   "source": [
    "- [State Estimation](https://righteous-guardian-68f.notion.site/State-Estimation-18ec0f5171ec80b997b6c78fc4b3be89?pvs=4)\n",
    "- [Kalman Filter](https://righteous-guardian-68f.notion.site/Kalman-Filter-16d5cde028354320ba60d35aaa2a4a38?pvs=4)"
   ]
  }
 ],
 "metadata": {
  "language_info": {
   "name": "python"
  }
 },
 "nbformat": 4,
 "nbformat_minor": 2
}

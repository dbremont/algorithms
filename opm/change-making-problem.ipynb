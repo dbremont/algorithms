{
 "cells": [
  {
   "cell_type": "markdown",
   "id": "7425e221",
   "metadata": {},
   "source": [
    "# Change-making Problem"
   ]
  },
  {
   "cell_type": "markdown",
   "id": "02226f71",
   "metadata": {},
   "source": [
    "Problem:\n",
    "- Given a set of items and values create a linear combination that equals a target value."
   ]
  },
  {
   "cell_type": "code",
   "execution_count": null,
   "id": "11f964c8",
   "metadata": {},
   "outputs": [],
   "source": [
    "from rich import print"
   ]
  },
  {
   "cell_type": "markdown",
   "id": "3c4df4d2",
   "metadata": {},
   "source": [
    "change_making(coins, target):\n",
    "\n",
    "Solves the change-making problem, where you need to determine the minimum number of coins\n",
    "required to make the target value using the available denominations (prices).\n",
    "\n",
    "Parameters:\n",
    "- coins: List of tuples where each tuple represents (price, available quantity). \n",
    "            The `price` represents the value of the coin, and `available quantity` is how \n",
    "            many of that coin type are available.\n",
    "- target: The total amount you need to make using the given coins.\n",
    "\n",
    "Returns:\n",
    "- A dictionary with the coin types (prices) and the number of coins used for each type to \n",
    "    reach the target, or an indication that it is not possible to reach the target with \n",
    "    the given coins."
   ]
  },
  {
   "cell_type": "code",
   "execution_count": null,
   "id": "7d86718d",
   "metadata": {},
   "outputs": [],
   "source": [
    "def change_making(coins, target):\n",
    "\n",
    "    # Create a DP(Dynamic Programming) array to store the minimum coins needed to make each amount\n",
    "    dp = [float('inf')] * (target + 1)\n",
    "    dp[0] = 0  # Base case: 0 coins to make 0\n",
    "\n",
    "    # Create a list to keep track of the coins used\n",
    "    coin_used = [[] for _ in range(target + 1)]  # To store coins used for each amount\n",
    "\n",
    "    for coin_value, coin_quantity in coins:\n",
    "\n",
    "        # For each coin, we need to check it up to its available quantity\n",
    "        for _ in range(coin_quantity):\n",
    "\n",
    "            # We iterate backwards to avoid using the same coin multiple times in one iteration\n",
    "            for currentTarget in range(target, coin_value - 1, -1):\n",
    "                coinsForCurrentTarget = dp[currentTarget]\n",
    "\n",
    "                targetAfterCoin = currentTarget - coin_value\n",
    "                coinsForTargetAfterCoin = dp[targetAfterCoin]\n",
    "\n",
    "                if dp[targetAfterCoin] == float('inf'):\n",
    "                    continue\n",
    "\n",
    "                if targetAfterCoin == 0 or (coinsForCurrentTarget > (coinsForTargetAfterCoin + 1)):\n",
    "                    print(coinsForCurrentTarget)\n",
    "                    dp[currentTarget] = coinsForTargetAfterCoin + 1  # 1 means for the current coin\n",
    "                    coin_used[currentTarget] = coin_used[targetAfterCoin] + [coin_value]\n",
    "\n",
    "    # Check if the target is reachable\n",
    "    if dp[target] == float('inf'):\n",
    "        return None\n",
    "    else:\n",
    "        return coin_used\n"
   ]
  },
  {
   "cell_type": "code",
   "execution_count": null,
   "id": "24009b4c",
   "metadata": {},
   "outputs": [
    {
     "name": "stdout",
     "output_type": "stream",
     "text": [
      "[0, 1, inf, inf, inf, inf]\n",
      "[0, 1, 2, inf, inf, inf]\n",
      "[0, 1, 2, 3, inf, inf]\n",
      "[0, 1, 2, 3, inf, inf]\n",
      "[0, 1, 1, 2, 3, 4]\n",
      "[0, 1, 1, 2, 3, 4]\n",
      "[0, 1, 1, 1, 2, 2]\n",
      "[0, 1, 1, 1, 2, 2]\n",
      "[0, 1, 1, 1, 2, 2]\n",
      "[[], [1], [2], [3], [1, 3], [2, 3]]\n"
     ]
    }
   ],
   "source": [
    "# (value, quantity)\n",
    "coins = [(1, 3), (2, 1),  (3, 2)]\n",
    "print(change_making(coins, target = 5))"
   ]
  },
  {
   "cell_type": "markdown",
   "id": "a2af224c",
   "metadata": {},
   "source": [
    "## References"
   ]
  },
  {
   "cell_type": "markdown",
   "id": "174a317c",
   "metadata": {},
   "source": [
    "- [Change-making Problem](https://righteous-guardian-68f.notion.site/Change-making-Problem-1b9c0f5171ec808a809bc2a67df19a01?pvs=4)"
   ]
  }
 ],
 "metadata": {
  "kernelspec": {
   "display_name": "venv",
   "language": "python",
   "name": "python3"
  },
  "language_info": {
   "codemirror_mode": {
    "name": "ipython",
    "version": 3
   },
   "file_extension": ".py",
   "mimetype": "text/x-python",
   "name": "python",
   "nbconvert_exporter": "python",
   "pygments_lexer": "ipython3",
   "version": "3.10.12"
  }
 },
 "nbformat": 4,
 "nbformat_minor": 5
}

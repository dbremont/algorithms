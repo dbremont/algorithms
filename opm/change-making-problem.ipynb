{
 "cells": [
  {
   "cell_type": "markdown",
   "id": "7425e221",
   "metadata": {},
   "source": [
    "# Change-making Problem"
   ]
  },
  {
   "cell_type": "markdown",
   "id": "02226f71",
   "metadata": {},
   "source": [
    "Problem:\n",
    "- Given a set of items and values create a linear combination that equals a target value.\n",
    "-"
   ]
  },
  {
   "cell_type": "markdown",
   "id": "a2af224c",
   "metadata": {},
   "source": [
    "## References"
   ]
  },
  {
   "cell_type": "markdown",
   "id": "174a317c",
   "metadata": {},
   "source": [
    "- [Change-making Problem](https://righteous-guardian-68f.notion.site/Change-making-Problem-1b9c0f5171ec808a809bc2a67df19a01?pvs=4)"
   ]
  }
 ],
 "metadata": {
  "language_info": {
   "name": "python"
  }
 },
 "nbformat": 4,
 "nbformat_minor": 5
}

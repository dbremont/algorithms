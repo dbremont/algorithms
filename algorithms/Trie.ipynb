{
  "nbformat": 4,
  "nbformat_minor": 0,
  "metadata": {
    "colab": {
      "provenance": [],
      "authorship_tag": "ABX9TyPw4ZddaA2u/dKXU6QJ/VGr",
      "include_colab_link": true
    },
    "kernelspec": {
      "name": "python3",
      "display_name": "Python 3"
    },
    "language_info": {
      "name": "python"
    }
  },
  "cells": [
    {
      "cell_type": "markdown",
      "metadata": {
        "id": "view-in-github",
        "colab_type": "text"
      },
      "source": [
        "<a href=\"https://colab.research.google.com/github/dbremont/algorithms/blob/main/src/Trie.ipynb\" target=\"_parent\"><img src=\"https://colab.research.google.com/assets/colab-badge.svg\" alt=\"Open In Colab\"/></a>"
      ]
    },
    {
      "cell_type": "markdown",
      "source": [
        "- How to encode a key?\n",
        "- How to search for a key?\n",
        "- How to delete a key?\n",
        "- ...\n",
        "\n",
        "- What does a trie represents?\n",
        "- Where does the word trie cames from?\n",
        "- How to search in a trie?\n",
        "- What operations does the data structure represents?\n",
        "    - Insertion\n",
        "    - Deletion\n",
        "    - Lookup\n",
        "- What does a node represents?\n",
        "- What does links represents?\n",
        "- How to encode a list of documents in a Trie?\n",
        "\n",
        "- What are the limitations of a trie?\n",
        "    - It allows only search based on prefix.\n",
        "\n",
        "    - **Space usage**: Tries can be memory-intensive because they need to store each character of the string in a separate node. This can result in a large number of nodes and high memory usage, especially for large dictionaries or datasets.\n",
        "\n",
        "    - **Time complexity**: Although tries provide fast searching and insertion of strings, the worst-case time complexity of some operations, such as deleting a node or merging two tries, can be slow and inefficient.\n",
        "\n",
        "    - **Inflexibility with other data types**: While tries are well-suited for storing strings, they are not as flexible when it comes to other data types such as numbers or complex data structures.\n",
        "\n",
        "    - **Limited search capabilities**: Tries are best suited for prefix searches, meaning that they only provide results that match the beginning of a string. This makes it more difficult to find matches in the middle or end of a string.\n",
        "\n",
        "    - **Difficulty handling misspellings**: Tries are not well-suited for handling misspellings or typos in search queries, as they require an exact match to retrieve results.\n",
        "\n",
        "Complexity:\n",
        "- O(n) for encoding.\n",
        "- O(n) deleting.\n",
        "- O(n) inserting.\n",
        "- O(n) for space."
      ],
      "metadata": {
        "id": "fZE6wNitwxJ_"
      }
    }
  ]
}

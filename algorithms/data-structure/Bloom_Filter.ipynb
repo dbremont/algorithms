{
  "nbformat": 4,
  "nbformat_minor": 0,
  "metadata": {
    "colab": {
      "provenance": [],
      "authorship_tag": "ABX9TyMWDJHc0EV+7gk357xBvNr7",
      "include_colab_link": true
    },
    "kernelspec": {
      "name": "python3",
      "display_name": "Python 3"
    },
    "language_info": {
      "name": "python"
    }
  },
  "cells": [
    {
      "cell_type": "markdown",
      "metadata": {
        "id": "view-in-github",
        "colab_type": "text"
      },
      "source": [
        "<a href=\"https://colab.research.google.com/github/dbremont/algorithms/blob/main/src/Bloom_Filter.ipynb\" target=\"_parent\"><img src=\"https://colab.research.google.com/assets/colab-badge.svg\" alt=\"Open In Colab\"/></a>"
      ]
    },
    {
      "cell_type": "markdown",
      "source": [
        "Bloom Filter\n",
        "\n",
        "[Writing a full-text engine using Bloom filter](https://news.ycombinator.com/item?id=23473365)"
      ],
      "metadata": {
        "id": "AZzKWvJT0oZk"
      }
    }
  ]
}

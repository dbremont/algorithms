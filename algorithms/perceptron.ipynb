{
  "nbformat": 4,
  "nbformat_minor": 0,
  "metadata": {
    "colab": {
      "provenance": [],
      "authorship_tag": "ABX9TyPwDBR39Gg/ZCR5Jr33UELs",
      "include_colab_link": true
    },
    "kernelspec": {
      "name": "python3",
      "display_name": "Python 3"
    },
    "language_info": {
      "name": "python"
    }
  },
  "cells": [
    {
      "cell_type": "markdown",
      "metadata": {
        "id": "view-in-github",
        "colab_type": "text"
      },
      "source": [
        "<a href=\"https://colab.research.google.com/github/dbremont/algorithms/blob/main/src/perceptron.ipynb\" target=\"_parent\"><img src=\"https://colab.research.google.com/assets/colab-badge.svg\" alt=\"Open In Colab\"/></a>"
      ]
    },
    {
      "cell_type": "markdown",
      "source": [
        "# Perceptron"
      ],
      "metadata": {
        "id": "IzVEvmRYuVPo"
      }
    },
    {
      "cell_type": "code",
      "source": [
        "import random\n",
        "\n",
        "class Perceptron:\n",
        "    def __init__(self, num_features):\n",
        "        self.weights = [random.uniform(-1, 1) for _ in range(num_features)]\n",
        "        self.bias = random.uniform(-1, 1)\n",
        "    \n",
        "    def predict(self, inputs):\n",
        "        activation = sum(w * x for w, x in zip(self.weights, inputs)) + self.bias\n",
        "        return 1 if activation >= 0 else 0\n",
        "    \n",
        "    def train(self, training_data, learning_rate, num_epochs):\n",
        "        for _ in range(num_epochs):\n",
        "            for inputs, label in training_data:\n",
        "                prediction = self.predict(inputs)\n",
        "                error = label - prediction\n",
        "                self.weights = [w + learning_rate * error * x for w, x in zip(self.weights, inputs)]\n",
        "                self.bias += learning_rate * error\n"
      ],
      "metadata": {
        "id": "rL-pJGnEthVa"
      },
      "execution_count": null,
      "outputs": []
    },
    {
      "cell_type": "code",
      "source": [
        "# Example usage\n",
        "training_data = [\n",
        "    ([0, 0], 0),\n",
        "    ([0, 1], 0),\n",
        "    ([1, 0], 0),\n",
        "    ([1, 1], 1)\n",
        "]\n",
        "\n",
        "perceptron = Perceptron(num_features=2)\n",
        "perceptron.train(training_data, learning_rate=0.1, num_epochs=10)\n"
      ],
      "metadata": {
        "id": "c1czup9tuQU9"
      },
      "execution_count": null,
      "outputs": []
    },
    {
      "cell_type": "code",
      "source": [
        "# Test the trained perceptron\n",
        "test_data = [\n",
        "    [0, 0],\n",
        "    [0, 1],\n",
        "    [1, 0],\n",
        "    [1, 1]\n",
        "]\n",
        "\n",
        "for inputs in test_data:\n",
        "    prediction = perceptron.predict(inputs)\n",
        "    print(f\"Inputs: {inputs}, Prediction: {prediction}\")"
      ],
      "metadata": {
        "colab": {
          "base_uri": "https://localhost:8080/"
        },
        "id": "OEBeii53uTPu",
        "outputId": "eb41f37a-990e-429d-cdd6-a505ae75ad21"
      },
      "execution_count": null,
      "outputs": [
        {
          "output_type": "stream",
          "name": "stdout",
          "text": [
            "Inputs: [0, 0], Prediction: 0\n",
            "Inputs: [0, 1], Prediction: 0\n",
            "Inputs: [1, 0], Prediction: 1\n",
            "Inputs: [1, 1], Prediction: 1\n"
          ]
        }
      ]
    }
  ]
}

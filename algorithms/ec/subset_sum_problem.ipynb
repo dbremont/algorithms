{
  "nbformat": 4,
  "nbformat_minor": 0,
  "metadata": {
    "colab": {
      "provenance": [],
      "authorship_tag": "ABX9TyMuBOw+Rnoa2aePoiJ2yRBe",
      "include_colab_link": true
    },
    "kernelspec": {
      "name": "python3",
      "display_name": "Python 3"
    },
    "language_info": {
      "name": "python"
    }
  },
  "cells": [
    {
      "cell_type": "markdown",
      "metadata": {
        "id": "view-in-github",
        "colab_type": "text"
      },
      "source": [
        "<a href=\"https://colab.research.google.com/github/arsbremontix/algorithms/blob/main/src/Genetic_Algorithms_Subset_Sum_Problem.ipynb\" target=\"_parent\"><img src=\"https://colab.research.google.com/assets/colab-badge.svg\" alt=\"Open In Colab\"/></a>"
      ]
    },
    {
      "cell_type": "code",
      "execution_count": null,
      "metadata": {
        "id": "c5YHxnqC-0Im"
      },
      "outputs": [],
      "source": [
        "import random\n",
        "\n",
        "# Problem setup\n",
        "def generate_subset():\n",
        "    \"\"\"Generates a random binary subset.\"\"\"\n",
        "    return [random.randint(0, 1) for _ in range(len(items))]\n",
        "\n",
        "def fitness(subset):\n",
        "    \"\"\"Calculates the fitness of a subset.\"\"\"\n",
        "    subset_sum = sum(x for x, included in zip(items, subset) if included)\n",
        "    if subset_sum == target_sum:\n",
        "        return float('inf')  # Perfect match\n",
        "    return 1 / abs(target_sum - subset_sum)\n",
        "\n",
        "def selection(population, fitnesses):\n",
        "    \"\"\"Selects an individual from the population using roulette wheel selection.\"\"\"\n",
        "    total_fitness = sum(fitnesses)\n",
        "    pick = random.uniform(0, total_fitness)\n",
        "    current = 0\n",
        "    for individual, fitness_value in zip(population, fitnesses):\n",
        "        current += fitness_value\n",
        "        if current > pick:\n",
        "            return individual\n",
        "\n",
        "def crossover(parent1, parent2):\n",
        "    \"\"\"Performs a single-point crossover between two parents.\"\"\"\n",
        "    point = random.randint(1, len(generate_subset) - 1)\n",
        "    child1 = parent1[:point] + parent2[point:]\n",
        "    child2 = parent2[:point] + parent1[point:]\n",
        "    return child1, child2\n",
        "\n",
        "def mutate(individual, mutation_rate=0.01):\n",
        "    \"\"\"Mutates an individual's genes with a given mutation rate.\"\"\"\n",
        "    return [1 - gene if random.random() < mutation_rate else gene for gene in individual]\n",
        "\n",
        "# Genetic Algorithm parameters\n",
        "population_size = 100\n",
        "generations = 1000\n",
        "mutation_rate = 0.01\n",
        "\n",
        "# Subset Sum Problem setup\n",
        "items = [3, 34, 4, 12, 5, 6]  # The set of numbers\n",
        "target_sum = 9                # Target sum to achieve\n",
        "\n",
        "# Initialize population\n",
        "population = [generate_subset() for _ in range(population_size)]\n",
        "\n",
        "\n",
        "# GA loop\n",
        "for generation in range(generations):\n",
        "    fitnesses = [fitness(individual) for individual in population]\n",
        "\n",
        "    # Check for a perfect solution\n",
        "    if float('inf') in fitnesses:\n",
        "\n",
        "        solution = population[fitnesses.index(float('inf'))]\n",
        "        break\n",
        "\n",
        "    # Selection and reproduction\n",
        "    new_population = []\n",
        "    for _ in range(population_size // 2):\n",
        "        parent1 = selection(population, fitnesses)\n",
        "        parent2 = selection(population, fitnesses)\n",
        "        child1, child2 = crossover(parent1, parent2)\n",
        "        new_population.extend([mutate(child1, mutation_rate), mutate(child2, mutation_rate)])\n",
        "\n",
        "    population = new_population\n",
        "\n",
        "# Output the solution\n",
        "solution = population[fitnesses.index(max(fitnesses))]\n",
        "selected_items = [item for item, included in zip(items, solution) if included]\n",
        "print(f\"Subset: {selected_items}\")\n",
        "print(f\"Subset Sum: {sum(selected_items)}\")\n"
      ]
    }
  ]
}

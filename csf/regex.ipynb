{
 "cells": [
  {
   "cell_type": "markdown",
   "metadata": {},
   "source": [
    "# Regex Engine"
   ]
  },
  {
   "cell_type": "markdown",
   "metadata": {},
   "source": [
    "> To implement a **regular expression (regex) domain-specific language (DSL)** using a **finite state machine (FSM)**, you would need to translate regex constructs (such as literals, alternation, concatenation, and quantifiers) into states and transitions in an FSM."
   ]
  },
  {
   "cell_type": "markdown",
   "metadata": {},
   "source": [
    "## Design\n",
    "\n",
    "**Identify Regex Components**:\n",
    "- **Literals**: Characters that match themselves.\n",
    "- **Concatenation**: When two patterns are placed side by side, they must both match in sequence.\n",
    "- **Alternation (`|`)**: A choice between two patterns.\n",
    "- **Quantifiers (`*`, `+`, `?`)**: These specify how many times a pattern should appear.\n",
    "- **Grouping (`()`)**: To group expressions together for capturing or for applying quantifiers.\n",
    "   \n",
    "**FSM Representation**:\n",
    "- Each **state** in the FSM represents a point in the regex where we might match a character.\n",
    "- **Transitions** represent possible state changes based on input characters.\n",
    "- Special states for handling **alternation** and **quantifiers** would be added."
   ]
  },
  {
   "cell_type": "markdown",
   "metadata": {},
   "source": [
    "## Implementation"
   ]
  },
  {
   "cell_type": "code",
   "execution_count": 3,
   "metadata": {},
   "outputs": [],
   "source": [
    "class FSM:\n",
    "    def __init__(self):\n",
    "        self.states = []  # List of states in the FSM\n",
    "        self.final_states = set()  # Set of final states\n",
    "        self.transitions = {}  # Dictionary for state transitions\n",
    "        self.start_state = None  # Starting state of the FSM\n",
    "\n",
    "    def add_state(self, state, is_final=False):\n",
    "        self.states.append(state)\n",
    "        if is_final:\n",
    "            self.final_states.add(state)\n",
    "        return state\n",
    "\n",
    "    def add_transition(self, from_state, to_state, symbol):\n",
    "        if from_state not in self.transitions:\n",
    "            self.transitions[from_state] = []\n",
    "        self.transitions[from_state].append((symbol, to_state))\n",
    "\n",
    "    def set_start_state(self, state):\n",
    "        self.start_state = state\n",
    "\n",
    "    def match(self, input_string):\n",
    "        current_state = self.start_state\n",
    "        for char in input_string:\n",
    "            transitions = self.transitions.get(current_state, [])\n",
    "            matched = False\n",
    "            for symbol, next_state in transitions:\n",
    "                if symbol == char:\n",
    "                    current_state = next_state\n",
    "                    matched = True\n",
    "                    break\n",
    "            if not matched:\n",
    "                return False\n",
    "        return current_state in self.final_states"
   ]
  },
  {
   "cell_type": "code",
   "execution_count": 4,
   "metadata": {},
   "outputs": [],
   "source": [
    "def parse_regex_to_fsm(regex):\n",
    "    fsm = FSM()\n",
    "    start_state = fsm.add_state('start')\n",
    "    current_state = start_state\n",
    "\n",
    "    for i, char in enumerate(regex):\n",
    "        next_state = fsm.add_state(f'state_{i + 1}')\n",
    "        fsm.add_transition(current_state, next_state, char)\n",
    "        current_state = next_state\n",
    "    \n",
    "    fsm.set_start_state(start_state)\n",
    "    fsm.final_states.add(current_state)\n",
    "    return fsm"
   ]
  },
  {
   "cell_type": "markdown",
   "metadata": {},
   "source": [
    "## Use"
   ]
  },
  {
   "cell_type": "code",
   "execution_count": 5,
   "metadata": {},
   "outputs": [
    {
     "name": "stdout",
     "output_type": "stream",
     "text": [
      "Does 'ab' match the regex? True\n",
      "Does 'abc' match the regex? False\n"
     ]
    }
   ],
   "source": [
    "regex = \"ab\"  # Example regex string\n",
    "fsm = parse_regex_to_fsm(regex)\n",
    "\n",
    "input_string = \"ab\"\n",
    "print(f\"Does '{input_string}' match the regex? {fsm.match(input_string)}\")  # Expected: True\n",
    "\n",
    "input_string = \"abc\"\n",
    "print(f\"Does '{input_string}' match the regex? {fsm.match(input_string)}\")  # Expected: False"
   ]
  }
 ],
 "metadata": {
  "kernelspec": {
   "display_name": "venv",
   "language": "python",
   "name": "python3"
  },
  "language_info": {
   "codemirror_mode": {
    "name": "ipython",
    "version": 3
   },
   "file_extension": ".py",
   "mimetype": "text/x-python",
   "name": "python",
   "nbconvert_exporter": "python",
   "pygments_lexer": "ipython3",
   "version": "3.10.12"
  }
 },
 "nbformat": 4,
 "nbformat_minor": 2
}

{
 "cells": [
  {
   "cell_type": "markdown",
   "metadata": {},
   "source": [
    "# Recursive Descent Parser"
   ]
  },
  {
   "cell_type": "markdown",
   "metadata": {},
   "source": [
    "## Grammar"
   ]
  },
  {
   "cell_type": "markdown",
   "metadata": {},
   "source": [
    "```bash\n",
    "E  → T ((\"+\" | \"-\") T)*         # Expression: one or more terms combined with + or -\n",
    "T  → F ((\"*\" | \"/\") F)*         # Term: one or more factors combined with * or /\n",
    "F  → \"(\" E \")\" | D+             # Factor: a parenthesized expression or a sequence of digits\n",
    "D  → \"0\" | \"1\" | \"2\" | ... | \"9\"  # Digit: A single numeric digit (0-9)\n",
    "```\n"
   ]
  },
  {
   "cell_type": "markdown",
   "metadata": {},
   "source": [
    "## Code"
   ]
  },
  {
   "cell_type": "code",
   "execution_count": 10,
   "metadata": {},
   "outputs": [],
   "source": [
    "import re\n",
    "import graphviz\n",
    "from IPython.display import display\n",
    "from PIL import Image\n",
    "from io import BytesIO"
   ]
  },
  {
   "cell_type": "code",
   "execution_count": 15,
   "metadata": {},
   "outputs": [],
   "source": [
    "# Tokenizer\n",
    "TOKEN_PATTERN = re.compile(r\"\\d+|\\+|\\-|\\*|\\/|\\(|\\)\")\n",
    "    \n",
    "class Tokenizer:\n",
    "    def __init__(self, expression):\n",
    "        self.tokens = TOKEN_PATTERN.findall(expression)\n",
    "        self.index = 0\n",
    "\n",
    "    def get_next_token(self):\n",
    "        if self.index < len(self.tokens):\n",
    "            token = self.tokens[self.index]\n",
    "            self.index += 1\n",
    "            return token\n",
    "        return None\n",
    "\n",
    "    def peek(self):\n",
    "        return self.tokens[self.index] if self.index < len(self.tokens) else None"
   ]
  },
  {
   "cell_type": "code",
   "execution_count": 16,
   "metadata": {},
   "outputs": [],
   "source": [
    "# AST Node\n",
    "class ASTNode:\n",
    "    def __init__(self, value, left=None, right=None):\n",
    "        self.value = value\n",
    "        self.left = left\n",
    "        self.right = right"
   ]
  },
  {
   "cell_type": "code",
   "execution_count": 17,
   "metadata": {},
   "outputs": [],
   "source": [
    "# Recursive Descent Parser\n",
    "class Parser:\n",
    "    def __init__(self, tokenizer):\n",
    "        self.tokenizer = tokenizer\n",
    "        self.current_token = self.tokenizer.get_next_token()\n",
    "\n",
    "    def eat(self, expected_token):\n",
    "        if self.current_token == expected_token:\n",
    "            self.current_token = self.tokenizer.get_next_token()\n",
    "        else:\n",
    "            raise SyntaxError(f\"Expected {expected_token}, got {self.current_token}\")\n",
    "\n",
    "    def parse_expression(self):\n",
    "        node = self.parse_term()\n",
    "        while self.current_token in ('+', '-'):\n",
    "            op = self.current_token\n",
    "            self.eat(op)\n",
    "            node = ASTNode(op, left=node, right=self.parse_term())\n",
    "        return node\n",
    "\n",
    "    def parse_term(self):\n",
    "        node = self.parse_factor()\n",
    "        while self.current_token in ('*', '/'):\n",
    "            op = self.current_token\n",
    "            self.eat(op)\n",
    "            node = ASTNode(op, left=node, right=self.parse_factor())\n",
    "        return node\n",
    "\n",
    "    def parse_factor(self):\n",
    "        token = self.current_token\n",
    "        if token.isdigit():\n",
    "            self.eat(token)\n",
    "            return ASTNode(token)\n",
    "        elif token == '(':\n",
    "            self.eat('(')\n",
    "            node = self.parse_expression()\n",
    "            self.eat(')')\n",
    "            return node\n",
    "        else:\n",
    "            raise SyntaxError(f\"Unexpected token: {token}\")\n"
   ]
  },
  {
   "cell_type": "code",
   "execution_count": 18,
   "metadata": {},
   "outputs": [],
   "source": [
    "# AST Visualization using Graphviz\n",
    "def visualize_ast(node, graph=None, parent=None, node_id=0):\n",
    "    \"\"\" Recursively generate a Graphviz Digraph for the AST \"\"\"\n",
    "    if graph is None:\n",
    "        graph = graphviz.Digraph(format='png')\n",
    "\n",
    "    current_id = str(node_id)\n",
    "    graph.node(current_id, node.value)\n",
    "\n",
    "    if parent is not None:\n",
    "        graph.edge(parent, current_id)\n",
    "\n",
    "    next_id = node_id + 1  # Increment ID for the next nodes\n",
    "    if node.left:\n",
    "        visualize_ast(node.left, graph, current_id, next_id)\n",
    "        next_id += 1  # Ensure unique IDs\n",
    "    if node.right:\n",
    "        visualize_ast(node.right, graph, current_id, next_id)\n",
    "\n",
    "    return graph  # Return the Digraph, not an integer"
   ]
  },
  {
   "cell_type": "markdown",
   "metadata": {},
   "source": [
    "## Usage"
   ]
  },
  {
   "cell_type": "code",
   "execution_count": 22,
   "metadata": {},
   "outputs": [],
   "source": [
    "# Example usage\n",
    "expression = \"3 + 5 * (2 - 8)\"\n",
    "tokenizer = Tokenizer(expression)\n",
    "parser = Parser(tokenizer)\n",
    "ast = parser.parse_expression()"
   ]
  },
  {
   "cell_type": "code",
   "execution_count": 23,
   "metadata": {},
   "outputs": [
    {
     "data": {
      "image/png": "[encoded data removed]",
      "text/plain": [
       "<PIL.PngImagePlugin.PngImageFile image mode=RGBA size=275x347>"
      ]
     },
     "metadata": {},
     "output_type": "display_data"
    }
   ],
   "source": [
    "# Generate AST Graph\n",
    "graph = visualize_ast(ast)\n",
    "\n",
    "# Display in Jupyter Notebook\n",
    "img = Image.open(BytesIO(graph.pipe(format='png')))\n",
    "display(img)"
   ]
  }
 ],
 "metadata": {
  "kernelspec": {
   "display_name": "venv",
   "language": "python",
   "name": "python3"
  },
  "language_info": {
   "codemirror_mode": {
    "name": "ipython",
    "version": 3
   },
   "file_extension": ".py",
   "mimetype": "text/x-python",
   "name": "python",
   "nbconvert_exporter": "python",
   "pygments_lexer": "ipython3",
   "version": "3.12.3"
  }
 },
 "nbformat": 4,
 "nbformat_minor": 2
}

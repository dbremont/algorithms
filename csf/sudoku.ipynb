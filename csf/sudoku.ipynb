{
 "cells": [
  {
   "cell_type": "markdown",
   "id": "92292016",
   "metadata": {},
   "source": [
    "# Sudoku"
   ]
  },
  {
   "cell_type": "markdown",
   "id": "b4ce24ed",
   "metadata": {},
   "source": [
    "> ..."
   ]
  },
  {
   "cell_type": "markdown",
   "id": "8913bbfc",
   "metadata": {},
   "source": [
    "## References"
   ]
  },
  {
   "cell_type": "markdown",
   "id": "9cdf524d",
   "metadata": {},
   "source": [
    "- [Solving Sudoku Algebraically](https://hkopp.github.io/2021/08/solving-sudoku-algebraically)"
   ]
  }
 ],
 "metadata": {
  "language_info": {
   "name": "python"
  }
 },
 "nbformat": 4,
 "nbformat_minor": 5
}

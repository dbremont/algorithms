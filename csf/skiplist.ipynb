{
  "nbformat": 4,
  "nbformat_minor": 0,
  "metadata": {
    "colab": {
      "provenance": [],
      "toc_visible": true,
      "authorship_tag": "ABX9TyOWPTQefw6IOc2NhjRoAdBx",
      "include_colab_link": true
    },
    "kernelspec": {
      "name": "python3",
      "display_name": "Python 3"
    },
    "language_info": {
      "name": "python"
    }
  },
  "cells": [
    {
      "cell_type": "markdown",
      "metadata": {
        "id": "view-in-github",
        "colab_type": "text"
      },
      "source": [
        "<a href=\"https://colab.research.google.com/github/arsbremontix/algorithms/blob/main/src/SkipList.ipynb\" target=\"_parent\"><img src=\"https://colab.research.google.com/assets/colab-badge.svg\" alt=\"Open In Colab\"/></a>"
      ]
    },
    {
      "cell_type": "code",
      "source": [
        "\"\"\"\n",
        "A toy skip list implementation.\n",
        "\"\"\"\n",
        "\n",
        "import random"
      ],
      "metadata": {
        "id": "LSkisF_eNFDK"
      },
      "execution_count": null,
      "outputs": []
    },
    {
      "cell_type": "code",
      "execution_count": 1,
      "metadata": {
        "id": "PYlL1U1OM7Nv"
      },
      "outputs": [],
      "source": [
        "class Node:\n",
        "    \"\"\" A class for a node in the skip list. \"\"\"\n",
        "    def __init__(self, value, level):\n",
        "        self.value = value\n",
        "        # List of forward pointers\n",
        "        self.forward = [None] * (level + 1)\n",
        "\n",
        "class SkipList:\n",
        "    \"\"\" A class for the skip list. \"\"\"\n",
        "    def __init__(self, max_level, p):\n",
        "        # Maximum level for this skip list\n",
        "        self.max_level = max_level\n",
        "        # P is the fraction of the nodes with level i pointers also having level i+1 pointers\n",
        "        self.p = p\n",
        "        # Create the header node and initialize key to -1\n",
        "        self.header = self.create_node(self.max_level, float('-inf'))\n",
        "        # Current level of skip list\n",
        "        self.level = 0\n",
        "\n",
        "    def create_node(self, lvl, val):\n",
        "        return Node(val, lvl)\n",
        "\n",
        "    def random_level(self):\n",
        "        \"\"\" Randomly decide the level of the node. \"\"\"\n",
        "        lvl = 0\n",
        "        while random.random() < self.p and lvl < self.max_level:\n",
        "            lvl += 1\n",
        "        return lvl\n",
        "\n",
        "    def insert(self, value):\n",
        "        \"\"\" Insert given value in the skip list. \"\"\"\n",
        "        update = [None] * (self.max_level + 1)\n",
        "        current = self.header\n",
        "\n",
        "        for i in range(self.level, -1, -1):\n",
        "            while current.forward[i] and current.forward[i].value < value:\n",
        "                current = current.forward[i]\n",
        "            update[i] = current\n",
        "\n",
        "        # Reached level 0 and forward pointer to right, which is desired position to insert key\n",
        "        current = current.forward[0]\n",
        "\n",
        "        if current is None or current.value != value:\n",
        "            # Generate a random level for node\n",
        "            rlevel = self.random_level()\n",
        "\n",
        "            # If random level is greater than list's current level (node with highest level inserted in list so far)\n",
        "            if rlevel > self.level:\n",
        "                for i in range(self.level + 1, rlevel + 1):\n",
        "                    update[i] = self.header\n",
        "                self.level = rlevel\n",
        "\n",
        "            # Create new node with random level generated\n",
        "            n = self.create_node(rlevel, value)\n",
        "\n",
        "            # Insert node by rearranging references\n",
        "            for i in range(rlevel + 1):\n",
        "                n.forward[i] = update[i].forward[i]\n",
        "                update[i].forward[i] = n\n",
        "\n",
        "    def delete(self, value):\n",
        "        \"\"\" Delete element from the skip list. \"\"\"\n",
        "        update = [None] * (self.max_level + 1)\n",
        "        current = self.header\n",
        "\n",
        "        for i in range(self.level, -1, -1):\n",
        "            while current.forward[i] and current.forward[i].value < value:\n",
        "                current = current.forward[i]\n",
        "            update[i] = current\n",
        "\n",
        "        current = current.forward[0]\n",
        "\n",
        "        # If current node is target node\n",
        "        if current and current.value == value:\n",
        "            for i in range(self.level + 1):\n",
        "                if update[i].forward[i] != current:\n",
        "                    break\n",
        "                update[i].forward[i] = current.forward[i]\n",
        "\n",
        "            # Remove levels having no elements\n",
        "            while self.level > 0 and self.header.forward[self.level] is None:\n",
        "                self.level -= 1\n",
        "\n",
        "    def search(self, value):\n",
        "        \"\"\" Search for the element in the skip list. \"\"\"\n",
        "        current = self.header\n",
        "        for i in range(self.level, -1, -1):\n",
        "            while current.forward[i] and current.forward[i].value < value:\n",
        "                current = current.forward[i]\n",
        "        current = current.forward[0]\n",
        "        if current and current.value == value:\n",
        "            return True\n",
        "        return False\n",
        "\n",
        "    def display_list(self):\n",
        "        \"\"\" Display the skip list level wise. \"\"\"\n",
        "        print(\"Skip List:\")\n",
        "        for i in range(self.level + 1):\n",
        "            print(\"Level {}: \".format(i), end=\"\")\n",
        "            node = self.header.forward[i]\n",
        "            while node:\n",
        "                print(node.value, end=\" \")\n",
        "                node = node.forward[i]\n",
        "            print(\"\")\n"
      ]
    },
    {
      "cell_type": "code",
      "source": [
        "# Example Usage\n",
        "skip_list = SkipList(3, 0.5)\n",
        "elements = [3, 6, 7, 9, 12, 19, 17]\n",
        "for elem in elements:\n",
        "    skip_list.insert(elem)\n",
        "\n",
        "skip_list.display_list()\n",
        "print(\"Search for 6:\", skip_list.search(6))\n",
        "# print(\"Search for 15:\", skip_list.search(15))\n",
        "\n",
        "# skip_list.delete(6)\n",
        "# print(\"After deleting 6\")\n",
        "# skip_list.display_list()"
      ],
      "metadata": {
        "id": "Hm_NyJFCNCUt"
      },
      "execution_count": null,
      "outputs": []
    },
    {
      "cell_type": "markdown",
      "source": [
        "## References\n",
        "- https://github.com/google/leveldb/blob/main/db/skiplist.h\n",
        "- ..."
      ],
      "metadata": {
        "id": "cFNGwqZZNeKx"
      }
    }
  ]
}

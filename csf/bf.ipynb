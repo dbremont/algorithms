{
 "cells": [
  {
   "cell_type": "markdown",
   "metadata": {},
   "source": [
    "# Bloom Filter"
   ]
  },
  {
   "cell_type": "markdown",
   "metadata": {},
   "source": [
    "> ..."
   ]
  },
  {
   "cell_type": "markdown",
   "metadata": {},
   "source": [
    "## Code"
   ]
  },
  {
   "cell_type": "code",
   "execution_count": null,
   "metadata": {},
   "outputs": [],
   "source": [
    "import hashlib\n",
    "\n",
    "class BloomFilter:\n",
    "    def __init__(self, size, hash_count):\n",
    "        \"\"\"\n",
    "        Initialize the Bloom Filter.\n",
    "        :param size: Size of the bit array.\n",
    "        :param hash_count: Number of hash functions to use.\n",
    "        \"\"\"\n",
    "        self.size = size\n",
    "        self.hash_count = hash_count\n",
    "        self.bit_array = [0] * size  # Initialize the bit array with zeros\n",
    "\n",
    "    def _hash(self, item, seed):\n",
    "        \"\"\"\n",
    "        Hash function using SHA-256 with a seed for multiple hash functions.\n",
    "        :param item: The item to hash.\n",
    "        :param seed: A seed to generate different hash functions.\n",
    "        :return: A hash value.\n",
    "        \"\"\"\n",
    "        hash_object = hashlib.sha256(str(item).encode() + str(seed).encode())\n",
    "        return int(hash_object.hexdigest(), 16) % self.size\n",
    "\n",
    "    def add(self, item):\n",
    "        \"\"\"\n",
    "        Add an item to the Bloom Filter.\n",
    "        :param item: The item to add.\n",
    "        \"\"\"\n",
    "        for seed in range(self.hash_count):\n",
    "            index = self._hash(item, seed)\n",
    "            self.bit_array[index] = 1\n",
    "\n",
    "    def __contains__(self, item):\n",
    "        \"\"\"\n",
    "        Check if an item is in the Bloom Filter.\n",
    "        :param item: The item to check.\n",
    "        :return: True if the item is probably in the set, False otherwise.\n",
    "        \"\"\"\n",
    "        for seed in range(self.hash_count):\n",
    "            index = self._hash(item, seed)\n",
    "            if self.bit_array[index] == 0:\n",
    "                return False\n",
    "        return True"
   ]
  },
  {
   "cell_type": "markdown",
   "metadata": {},
   "source": [
    "## Test"
   ]
  },
  {
   "cell_type": "code",
   "execution_count": null,
   "metadata": {},
   "outputs": [],
   "source": [
    "# Step 2: Test the Bloom Filter\n",
    "bloom = BloomFilter(size=20, hash_count=3)\n",
    "\n",
    "# Add elements to the Bloom Filter\n",
    "elements = {\"a\", \"b\", 1, 2, 12}\n",
    "for element in elements:\n",
    "    bloom.add(element)"
   ]
  },
  {
   "cell_type": "code",
   "execution_count": null,
   "metadata": {},
   "outputs": [
    {
     "name": "stdout",
     "output_type": "stream",
     "text": [
      "'a' is probably in the set.\n",
      "'b' is probably in the set.\n",
      "'1' is probably in the set.\n",
      "'2' is probably in the set.\n",
      "'12' is probably in the set.\n",
      "'c' is definitely not in the set.\n",
      "'3' is definitely not in the set.\n",
      "'13' is definitely not in the set.\n"
     ]
    }
   ],
   "source": [
    "# Test membership\n",
    "test_elements = [\"a\", \"b\", 1, 2, 12, \"c\", 3, 13]  # Include some elements not in the set\n",
    "for element in test_elements:\n",
    "    if element in bloom:\n",
    "        print(f\"'{element}' is probably in the set.\")\n",
    "    else:\n",
    "        print(f\"'{element}' is definitely not in the set.\")"
   ]
  },
  {
   "cell_type": "markdown",
   "metadata": {},
   "source": [
    "## Performace"
   ]
  },
  {
   "cell_type": "markdown",
   "metadata": {},
   "source": [
    "**Space Efficiency**:\n",
    "- Bloom Filters are **space-efficient** because they use a bit array to represent the set.\n",
    "- The **size of the bit array** $m$ and the **number of hash functions** $k$ determine the space usage.\n",
    "- For a given number of elements $n$ and a desired false positive probability $p$, the optimal size of the bit array is:\n",
    "  - $m = -\\frac{n \\ln p}{(\\ln 2)^2}$\n",
    "- The optimal number of hash functions is:\n",
    "  - $k = \\frac{m}{n} \\ln 2$\n",
    "  \n",
    "**Time Complexity**:\n",
    "- **Insertion**: $O(k)$, where $k$ is the number of hash functions.\n",
    "  - Each element is hashed $k$ times, and the corresponding bits in the bit array are set to `1`.\n",
    "- **Lookup**: $O(k)$.\n",
    "  - Each element is hashed $k$ times, and the corresponding bits in the bit array are checked.\n",
    "- **Deletion**: Not supported.\n",
    "  - Bloom Filters do not support deletion because setting a bit to `0` could affect other elements.\n"
   ]
  },
  {
   "cell_type": "markdown",
   "metadata": {},
   "source": [
    "## References\n",
    "\n",
    "- [Writing a full-text engine using Bloom filter](https://news.ycombinator.com/item?id=23473365)\n",
    "- [Bloom filter](https://en.wikipedia.org/wiki/Bloom_filter)"
   ]
  }
 ],
 "metadata": {
  "language_info": {
   "name": "python"
  }
 },
 "nbformat": 4,
 "nbformat_minor": 2
}

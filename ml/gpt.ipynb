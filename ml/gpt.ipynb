{
 "cells": [
  {
   "cell_type": "markdown",
   "metadata": {},
   "source": [
    "# Generative Pretrained Transformer (GPT)"
   ]
  },
  {
   "cell_type": "markdown",
   "metadata": {},
   "source": [
    ">  ..."
   ]
  },
  {
   "cell_type": "markdown",
   "metadata": {},
   "source": [
    "## References"
   ]
  },
  {
   "cell_type": "markdown",
   "metadata": {},
   "source": [
    "- [A GPT in 60 Lines of NumPy](https://news.ycombinator.com/item?id=34726115)\n",
    "- [Let's Build the GPT Tokenizer](https://news.ycombinator.com/item?id=39443965)\n",
    "- [Neural Networks: Zero to Hero](https://karpathy.ai/zero-to-hero.html)"
   ]
  }
 ],
 "metadata": {
  "language_info": {
   "name": "python"
  }
 },
 "nbformat": 4,
 "nbformat_minor": 2
}

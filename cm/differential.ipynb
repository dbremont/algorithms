{
 "cells": [
  {
   "cell_type": "markdown",
   "metadata": {},
   "source": [
    "# Differential Operator"
   ]
  },
  {
   "cell_type": "markdown",
   "metadata": {},
   "source": [
    "Plan:\n",
    "- Graph Functions\n",
    "- Graph Differential Analysis\n",
    "- Graph Empiriral Data\n",
    "- Graph Non Differentiable Functions"
   ]
  },
  {
   "cell_type": "markdown",
   "metadata": {},
   "source": [
    "Case Studies:\n",
    "\n",
    "- Yeast Growth\n",
    "- Phillips Curve\n",
    "- Metabolic Rate\n",
    "- Empirical Data\n",
    "- Radioactive Decay\n",
    "- Newton's Law of Cooling\n",
    "- Individual Skill Acquisition\n",
    "- Rate of Technological Progress\n",
    "- Simple Model of Inventory Depletion\n",
    "- Sensitivity of Bond Price to Interest Rates"
   ]
  },
  {
   "cell_type": "markdown",
   "metadata": {},
   "source": [
    "## Deriviative Operator"
   ]
  },
  {
   "cell_type": "code",
   "execution_count": 2,
   "metadata": {},
   "outputs": [],
   "source": []
  }
 ],
 "metadata": {
  "kernelspec": {
   "display_name": "venv",
   "language": "python",
   "name": "python3"
  },
  "language_info": {
   "codemirror_mode": {
    "name": "ipython",
    "version": 3
   },
   "file_extension": ".py",
   "mimetype": "text/x-python",
   "name": "python",
   "nbconvert_exporter": "python",
   "pygments_lexer": "ipython3",
   "version": "3.10.12"
  }
 },
 "nbformat": 4,
 "nbformat_minor": 2
}

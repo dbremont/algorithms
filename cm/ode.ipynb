{
 "cells": [
  {
   "cell_type": "markdown",
   "id": "7f12b9f0",
   "metadata": {},
   "source": [
    "## Ordinary Differential Equation"
   ]
  },
  {
   "cell_type": "markdown",
   "id": "c9e62385",
   "metadata": {},
   "source": [
    "..."
   ]
  },
  {
   "cell_type": "markdown",
   "id": "67441dae",
   "metadata": {},
   "source": [
    "## References"
   ]
  },
  {
   "cell_type": "markdown",
   "id": "af7f0621",
   "metadata": {},
   "source": [
    "- [Differential Equations](https://righteous-guardian-68f.notion.site/Differential-Equation-172c0f5171ec80e2b7b7c0e908031b42?pvs=4)"
   ]
  }
 ],
 "metadata": {
  "language_info": {
   "name": "python"
  }
 },
 "nbformat": 4,
 "nbformat_minor": 5
}
